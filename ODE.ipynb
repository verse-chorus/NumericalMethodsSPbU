{
 "cells": [
  {
   "cell_type": "markdown",
   "id": "1eef06bf",
   "metadata": {},
   "source": [
    "### Шмидт Ян, 304 гр., 2023, Вариант 9\n",
    "$$\\xi = \\dfrac{1}{11}, \\quad A = \\dfrac{1}{15}, \\quad B = \\dfrac{1}{25}$$\n",
    "Имеем задачу Коши $(1)-(2)$; обозначим за $(1)$ систему ОДУ, а за $(2)$ - начальные данные:\n",
    "![image](./images/ODEtask.png)"
   ]
  },
  {
   "cell_type": "markdown",
   "id": "9bf2042b",
   "metadata": {},
   "source": [
    "# Часть 1. Расчетные схемы метода Рунге-Кутты с постоянным шагом"
   ]
  },
  {
   "cell_type": "markdown",
   "id": "3b1f8a8d",
   "metadata": {},
   "source": [
    "### Что такое явный метод Рунге-Кутты (ЯМРК)?"
   ]
  },
  {
   "cell_type": "markdown",
   "id": "13a5beb9",
   "metadata": {},
   "source": [
    "![image](./images/ЯМРК.png)\n",
    "где $b_i, c_i, a_{ij}$ — заданные вещественные постоянные"
   ]
  },
  {
   "cell_type": "markdown",
   "id": "4173acf3",
   "metadata": {},
   "source": [
    "### Что такое порядок ЯМРК?"
   ]
  },
  {
   "cell_type": "markdown",
   "id": "b61499c5",
   "metadata": {},
   "source": [
    "![image](./images/порядокЯМРК.png)"
   ]
  },
  {
   "cell_type": "markdown",
   "id": "8650d326",
   "metadata": {},
   "source": [
    "### Определение локальной (методической) погрешности. Как производится выбор $b_i, c_i, a_{ij}$?"
   ]
  },
  {
   "cell_type": "markdown",
   "id": "608b6fab",
   "metadata": {},
   "source": [
    "![image](./images/ЯМРК-теория.png)"
   ]
  },
  {
   "cell_type": "markdown",
   "id": "7eeb9ebd",
   "metadata": {},
   "source": [
    "### Обобщение метода Рунге-Кутты на случай систем ОДУ"
   ]
  },
  {
   "cell_type": "markdown",
   "id": "e92d864f",
   "metadata": {},
   "source": [
    "![image](./images/ODEsystem.png)"
   ]
  },
  {
   "cell_type": "markdown",
   "id": "0f0ee698",
   "metadata": {},
   "source": [
    "## Часть 1.1. Построить 2-х-этапного ЯМРК 2-го порядка при значении параметра $c=\\xi$ (параметр $\\xi$ указан в варианте)."
   ]
  },
  {
   "cell_type": "markdown",
   "id": "ae62efdc",
   "metadata": {},
   "source": [
    "![image](./images/двухэтапЯМРК.png)"
   ]
  },
  {
   "cell_type": "code",
   "execution_count": 4,
   "id": "d0847190",
   "metadata": {},
   "outputs": [],
   "source": [
    "import numpy as np\n",
    "import matplotlib.pyplot as plt"
   ]
  },
  {
   "cell_type": "code",
   "execution_count": 23,
   "id": "d1fbe67c",
   "metadata": {},
   "outputs": [],
   "source": [
    "xi, A, B = 1/11, 1/15, 1/25\n",
    "x0 = 0\n",
    "xk = np.pi\n",
    "c2 = xi"
   ]
  },
  {
   "cell_type": "markdown",
   "id": "47d5394a",
   "metadata": {},
   "source": [
    "### Вычисление коэффициентов $b_i, c_i, a_{ij}$"
   ]
  },
  {
   "cell_type": "code",
   "execution_count": 24,
   "id": "6729a4ae",
   "metadata": {},
   "outputs": [
    {
     "name": "stdout",
     "output_type": "stream",
     "text": [
      "c2 = 0.09090909090909091, \n",
      "a21 = 0.09090909090909091, \n",
      "b1 = -4.5, \n",
      "b2 = 5.5\n"
     ]
    }
   ],
   "source": [
    "a21 = c2\n",
    "b1 = 1 - 1/(2*c2)\n",
    "b2 = 1/(2*c2)\n",
    "print(f'c2 = {c2}, \\na21 = {a21}, \\nb1 = {b1}, \\nb2 = {b2}')"
   ]
  },
  {
   "cell_type": "code",
   "execution_count": null,
   "id": "17592498",
   "metadata": {},
   "outputs": [],
   "source": [
    "\n"
   ]
  },
  {
   "cell_type": "code",
   "execution_count": null,
   "id": "eed8e254",
   "metadata": {},
   "outputs": [],
   "source": []
  },
  {
   "cell_type": "code",
   "execution_count": null,
   "id": "01b48d93",
   "metadata": {},
   "outputs": [],
   "source": []
  },
  {
   "cell_type": "code",
   "execution_count": null,
   "id": "3e83305c",
   "metadata": {},
   "outputs": [],
   "source": []
  },
  {
   "cell_type": "code",
   "execution_count": null,
   "id": "9ef46014",
   "metadata": {},
   "outputs": [],
   "source": []
  },
  {
   "cell_type": "code",
   "execution_count": null,
   "id": "0197748a",
   "metadata": {},
   "outputs": [],
   "source": []
  },
  {
   "cell_type": "markdown",
   "id": "a82a9e37",
   "metadata": {},
   "source": [
    "## Часть 1.2. Постройте и программно реализуйте алгоритм решения задачи Коши с заданной точностью ($\\varepsilon = 10e-4$) с постоянным шагом интегрирования и оценкой полной погрешности по методу Рунге. Параметры $A, B$ указаны в Вашем варианте. Начальный шаг выбирать согласно алгоритму выбора начального шага (стр. 15 методического пособия)."
   ]
  },
  {
   "cell_type": "code",
   "execution_count": null,
   "id": "5495623e",
   "metadata": {},
   "outputs": [],
   "source": []
  },
  {
   "cell_type": "code",
   "execution_count": null,
   "id": "0495c13a",
   "metadata": {},
   "outputs": [],
   "source": []
  },
  {
   "cell_type": "markdown",
   "id": "16146c75",
   "metadata": {},
   "source": [
    "# Часть 2. Расчетные схемы метода Рунге-Кутты с автоматическим выбором шага"
   ]
  },
  {
   "cell_type": "code",
   "execution_count": null,
   "id": "38790b15",
   "metadata": {},
   "outputs": [],
   "source": []
  },
  {
   "cell_type": "code",
   "execution_count": null,
   "id": "133cf239",
   "metadata": {},
   "outputs": [],
   "source": []
  },
  {
   "cell_type": "markdown",
   "id": "8134520b",
   "metadata": {},
   "source": [
    "## Часть 2.1. Реализуйте алгоритм решения задачи Коши на базе построенной в части  1.1 схемы 2-х-этапного ЯМРК 2-го порядка с автоматическим выбором шага с заданной максимально допустимой локальной погрешностью ($\\rho=10e-5$) и оценкой локальной погрешности по методу Рунге. Начальный шаг выбирать так же, как и в части 1.2."
   ]
  },
  {
   "cell_type": "code",
   "execution_count": null,
   "id": "525f5d24",
   "metadata": {},
   "outputs": [],
   "source": []
  },
  {
   "cell_type": "code",
   "execution_count": null,
   "id": "f7fe4b39",
   "metadata": {},
   "outputs": [],
   "source": []
  },
  {
   "cell_type": "markdown",
   "id": "6687d99b",
   "metadata": {},
   "source": [
    "# Часть 3. Анализ эффективности методов Рунге-Кутты"
   ]
  },
  {
   "cell_type": "code",
   "execution_count": null,
   "id": "ea4adbf1",
   "metadata": {},
   "outputs": [],
   "source": []
  },
  {
   "cell_type": "code",
   "execution_count": null,
   "id": "7a0d5a96",
   "metadata": {},
   "outputs": [],
   "source": []
  },
  {
   "cell_type": "markdown",
   "id": "28efcff4",
   "metadata": {},
   "source": [
    "## Часть 3.1. Реализуйте алгоритмы решения задачи Коши с постоянным и автоматическим выбором шага на базе одной из классических расчетных схем интегрирования 3 или 4 порядка точности: формулы (36), (37), (39), (40)."
   ]
  },
  {
   "cell_type": "markdown",
   "id": "ec84d1fc",
   "metadata": {},
   "source": [
    "### (36) — первый вариант трехэтапного ЯМРК третьего порядка\n",
    "![image](./images/трехэтапЯМРК1.png)"
   ]
  },
  {
   "cell_type": "markdown",
   "id": "e3bd9017",
   "metadata": {},
   "source": [
    "### (37) — второй вариант трехэтапного ЯМРК третьего порядка\n",
    "![image](./images/трехэтапЯМРК2.png)"
   ]
  },
  {
   "cell_type": "markdown",
   "id": "78bfb3c9",
   "metadata": {},
   "source": [
    "### (39) — четырехэтапный метод Рунге-Кутты четвертого порядка — классический метод Рунге-Кутты, или правило одной шестой\n",
    "![image](./images/КлассичМетодРК.png)"
   ]
  },
  {
   "cell_type": "markdown",
   "id": "e50d858a",
   "metadata": {},
   "source": [
    "### (40) — <i>формула Гилла</i>\n",
    "![image](./images/формулаГилла.png)"
   ]
  },
  {
   "cell_type": "code",
   "execution_count": null,
   "id": "ea67865e",
   "metadata": {},
   "outputs": [],
   "source": []
  },
  {
   "cell_type": "code",
   "execution_count": null,
   "id": "82d4af10",
   "metadata": {},
   "outputs": [],
   "source": []
  },
  {
   "cell_type": "markdown",
   "id": "69b4fdef",
   "metadata": {},
   "source": [
    "## Часть 3.2. Для выбранного метода (схемы оппонента) из п. 3.1 и реализованного Вами в п.1.2 2-х-этапного ЯМРК 2-го порядка для решения задачи Коши с постоянным шагом определите величину шага интегрирования $h$, обеспечивающего вычисление приближенного решения с заданной точностью ($\\varepsilon = 10^{-4}$). Постройте графики зависимости истинной полной погрешности от значения независимой переменной $x$ при интегрировании с полученным шагом $h$."
   ]
  },
  {
   "cell_type": "code",
   "execution_count": null,
   "id": "e98648d7",
   "metadata": {},
   "outputs": [],
   "source": []
  },
  {
   "cell_type": "code",
   "execution_count": null,
   "id": "1967a6c9",
   "metadata": {},
   "outputs": [],
   "source": []
  },
  {
   "cell_type": "markdown",
   "id": "562e5340",
   "metadata": {},
   "source": [
    "## Часть 3.3. Для схемы оппонента из п. 3.1 и реализованного Вами в п.2.1 2-х этапного ЯМРК 2- го порядка для решения задачи Коши с автоматическим выбором шага интегрирования постройте:"
   ]
  },
  {
   "cell_type": "code",
   "execution_count": null,
   "id": "d191082c",
   "metadata": {},
   "outputs": [],
   "source": []
  },
  {
   "cell_type": "code",
   "execution_count": null,
   "id": "294601af",
   "metadata": {},
   "outputs": [],
   "source": []
  },
  {
   "cell_type": "markdown",
   "id": "3ffc3fcf",
   "metadata": {},
   "source": [
    "### Часть 3.3.1 графики зависимости величины шага интегрирования от значения независимой переменной $x$"
   ]
  },
  {
   "cell_type": "code",
   "execution_count": null,
   "id": "9cce0e3f",
   "metadata": {},
   "outputs": [],
   "source": []
  },
  {
   "cell_type": "code",
   "execution_count": null,
   "id": "bfbe47f9",
   "metadata": {},
   "outputs": [],
   "source": []
  },
  {
   "cell_type": "markdown",
   "id": "14c4d724",
   "metadata": {},
   "source": [
    "### Часть 3.3.2 графики зависимости отношения истинной локальной погрешности к полученной оценке локальной погрешности от значения независимой переменной $x$ (см. формулу (91) в методичке)."
   ]
  },
  {
   "cell_type": "markdown",
   "id": "015a8b79",
   "metadata": {},
   "source": [
    "### Формула (91): $$\\delta_{j+1}^\\varepsilon = \\dfrac{l_{j+1}}{h_{j \\varepsilon}}$$"
   ]
  },
  {
   "cell_type": "code",
   "execution_count": null,
   "id": "abc33f17",
   "metadata": {},
   "outputs": [],
   "source": []
  },
  {
   "cell_type": "code",
   "execution_count": null,
   "id": "c6fd7e52",
   "metadata": {},
   "outputs": [],
   "source": []
  },
  {
   "cell_type": "markdown",
   "id": "02960789",
   "metadata": {},
   "source": [
    "### Часть 3.3.3 графики зависимости количества вычислений правой части системы от заданной точности $\\varepsilon$ (например, $\\varepsilon = [10^{-1}, 10^{-2}, 10^{-3}, 10^{-4}, 10^{-5}]$)."
   ]
  },
  {
   "cell_type": "code",
   "execution_count": null,
   "id": "60678d51",
   "metadata": {},
   "outputs": [],
   "source": []
  },
  {
   "cell_type": "code",
   "execution_count": null,
   "id": "3bcae82c",
   "metadata": {},
   "outputs": [],
   "source": []
  }
 ],
 "metadata": {
  "kernelspec": {
   "display_name": "Python 3 (ipykernel)",
   "language": "python",
   "name": "python3"
  },
  "language_info": {
   "codemirror_mode": {
    "name": "ipython",
    "version": 3
   },
   "file_extension": ".py",
   "mimetype": "text/x-python",
   "name": "python",
   "nbconvert_exporter": "python",
   "pygments_lexer": "ipython3",
   "version": "3.10.9"
  }
 },
 "nbformat": 4,
 "nbformat_minor": 5
}
