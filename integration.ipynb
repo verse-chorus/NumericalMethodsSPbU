{
 "cells": [
  {
   "cell_type": "markdown",
   "id": "b6c9a769",
   "metadata": {},
   "source": [
    "### Шмидт Ян, 304 гр., 2023, Вариант 9\n",
    "$$f(x) = 3 \\cos\\left(\\dfrac{3x}{2}\\right) e\\left(\\dfrac{x}{4}\\right) + 4 \\sin\\left(\\dfrac{7x}{2}\\right) e(−3x) + 4x$$\n",
    "\n",
    "$$a=2.5, b=3.3, \\alpha=\\dfrac{2}{3}, \\beta=0$$\n",
    "# Часть 1. Квадратурные формулы (КФ) Ньютона-Котеса и Гаусса"
   ]
  },
  {
   "cell_type": "markdown",
   "id": "0ace2cc8",
   "metadata": {},
   "source": [
    "## Часть 1.1. Посчитать интеграл с использованием составных квадратурных формул (СКФ): \n",
    "<i> 1) средних и 2) левых прямоугольников, 3) трапеции, 4) Симпсона </i>\n",
    "### Подынтегральная функция — $f(x)$ из своего варианта ($p(x) \\equiv 1$):\n",
    "Посчитать $$\\int_{a}^{b} f(x) dx = \\int_{2.5}^{3.3} \\left[3 \\cos\\left(\\dfrac{3x}{2}\\right) e\\left(\\dfrac{x}{4}\\right) + 4 \\sin\\left(\\dfrac{7x}{2}\\right) e(−3x) + 4x\\right] dx$$"
   ]
  },
  {
   "cell_type": "code",
   "execution_count": 507,
   "id": "ce2f80d4",
   "metadata": {},
   "outputs": [],
   "source": [
    "import numpy as np\n",
    "import math\n",
    "import matplotlib.pyplot as plt"
   ]
  },
  {
   "cell_type": "markdown",
   "id": "05172a14",
   "metadata": {},
   "source": [
    "## Функция из задания"
   ]
  },
  {
   "cell_type": "code",
   "execution_count": 508,
   "id": "3b810b44",
   "metadata": {},
   "outputs": [],
   "source": [
    "def f(x):\n",
    "    return 3*np.cos(3*x/2)*np.exp(x/4) + 4*np.sin(7*x/2)*np.exp(-3*x) + 4*x\n",
    "\n",
    "def F(x):\n",
    "    return (3*np.cos(3*x/2)*np.exp(x/4) + 4*np.sin(7*x/2)*np.exp(-3*x) + 4*x) / (x-2.5)^(2/3)"
   ]
  },
  {
   "cell_type": "code",
   "execution_count": 509,
   "id": "47ac1b6b",
   "metadata": {},
   "outputs": [
    {
     "data": {
      "text/plain": [
       "<matplotlib.legend.Legend at 0x12d801ea0>"
      ]
     },
     "execution_count": 509,
     "metadata": {},
     "output_type": "execute_result"
    },
    {
     "data": {
      "image/png": "[encoded data removed]",
      "text/plain": [
       "<Figure size 800x500 with 1 Axes>"
      ]
     },
     "metadata": {},
     "output_type": "display_data"
    }
   ],
   "source": [
    "plt.rcParams[\"figure.figsize\"] = (8, 5)\n",
    "\n",
    "a, b, n = 2.5, 3.3, 100\n",
    "nodes = np.linspace(a, b, n)\n",
    "f_val = []\n",
    "\n",
    "for i in range(len(nodes)):\n",
    "    f_val.append(f(nodes[i]))\n",
    "    \n",
    "plt.plot(nodes, f_val, \n",
    "         label='$3cos(3x/2)\\cdot e(x/4) + 4sin(7x/2)\\cdot e(-3x) + 4x$',\n",
    "         color='salmon')\n",
    "plt.legend(loc='best')"
   ]
  },
  {
   "cell_type": "markdown",
   "id": "60d0650a",
   "metadata": {},
   "source": [
    "## Метод средних прямоугольников\n",
    "Разбиваем $[a,b]$ на $n$ частей и считаем значение функции в середине каждого частичного отрезка"
   ]
  },
  {
   "cell_type": "code",
   "execution_count": 510,
   "id": "02035cdb",
   "metadata": {},
   "outputs": [],
   "source": [
    "def mid_sq(num_nodes):\n",
    "    \"\"\"computes an approximation of the integral of f from a to b using\n",
    "    the composite middle squares with n intervals\"\"\"\n",
    "    a, b, n = 2.5, 3.3, num_nodes\n",
    "    nodes = np.linspace(a, b, n)\n",
    "    h = (b-a)/n\n",
    "    int_result = 0\n",
    "\n",
    "    for i in range(1, len(nodes)):\n",
    "        int_result += f(a + (i-0.5)*h)\n",
    "        \n",
    "    return h*int_result"
   ]
  },
  {
   "cell_type": "markdown",
   "id": "aa3a8111",
   "metadata": {},
   "source": [
    "## Метод левых прямоугольников\n",
    "Здесь идея та же, что и в методе средних прямоугольников — единственное отличие заключается в том, что значение функции считаем в левой точке частичного отрезка, а не в серединной"
   ]
  },
  {
   "cell_type": "code",
   "execution_count": 511,
   "id": "f24e2800",
   "metadata": {},
   "outputs": [],
   "source": [
    "def left_sq(num_nodes):\n",
    "    \"\"\"computes an approximation of the integral of f from a to b using\n",
    "    the composite left squares with n intervals\"\"\"\n",
    "    a, b, n = 2.5, 3.3, num_nodes\n",
    "    nodes = np.linspace(a, b, n)\n",
    "    h = (b-a)/n\n",
    "    int_result = 0\n",
    "    \n",
    "    for i in range(1, len(nodes)):\n",
    "        int_result += f(a + (i-1)*h)\n",
    "        \n",
    "    return h*int_result"
   ]
  },
  {
   "cell_type": "markdown",
   "id": "51d968dc",
   "metadata": {},
   "source": [
    "## Метод трапеции"
   ]
  },
  {
   "cell_type": "code",
   "execution_count": 512,
   "id": "2e7250d3",
   "metadata": {},
   "outputs": [],
   "source": [
    "def trapez(num_nodes):\n",
    "    \"\"\"computes an approximation of the integral of f from a to b using\n",
    "    the composite trapezoidal tule with n intervals\"\"\"\n",
    "    a, b, n = 2.5, 3.3, num_nodes\n",
    "    nodes = np.linspace(a, b, n)\n",
    "    h = (b-a)/n\n",
    "    int_result = 0\n",
    "    \n",
    "    for i in range(1, len(nodes)):\n",
    "        int_result += (f(a + h*(i-1)) + f(a + h*(i)))\n",
    "    \n",
    "    return 0.5*h*int_result"
   ]
  },
  {
   "cell_type": "markdown",
   "id": "fc658003",
   "metadata": {},
   "source": [
    "## Формула Симпсона"
   ]
  },
  {
   "cell_type": "code",
   "execution_count": 513,
   "id": "3a2746e3",
   "metadata": {},
   "outputs": [],
   "source": [
    "def simp(num_nodes):\n",
    "    \"\"\"computes an approximation of the integral of f from a to b using\n",
    "    the composite Simpson rule with n intervals\"\"\"\n",
    "    a, b, n = 2.5, 3.3, num_nodes\n",
    "    nodes = np.linspace(a, b, n)\n",
    "    h = (b-a)/n\n",
    "    int_result = 0\n",
    "    \n",
    "    for i in range(1, len(nodes)):\n",
    "        int_result += (f(a+h*(i-1)) + 4*f(a + (i-0.5)*h) + f(a+h*(i)))\n",
    "    return (1/6)*h*int_result"
   ]
  },
  {
   "cell_type": "code",
   "execution_count": 532,
   "id": "75fd3d57",
   "metadata": {
    "scrolled": false
   },
   "outputs": [
    {
     "name": "stdout",
     "output_type": "stream",
     "text": [
      "7.701722598370211 7.697964218123029 7.701723137350971 7.7017227780304625\n"
     ]
    }
   ],
   "source": [
    "print(mid_sq(1000), left_sq(1000), trapez(1000), simp(1000))"
   ]
  },
  {
   "cell_type": "markdown",
   "id": "0d8c4e3e",
   "metadata": {},
   "source": [
    "## Часть 1.2. Посчитать интеграл с использованием СКФ на базе 3-x-точечных формул \n",
    "<i> 1) Ньютона-Котеса, 2) Гаусса </i> — это интерполяционные квадратурные формулы (ИКФ)\n",
    "### Подынтегральная функция $F(x) = p(x)\\cdot f(x)$ из своего варианта ($p(x) \\not\\equiv 1$):\n",
    "\n",
    "Посчитать $$\\int_{a}^{b} F(x) dx = \\int_{a}^{b} p(x)\\cdot f(x) dx  = \\int_{2.5}^{3.3} \\dfrac{f(x)}{(x-a)^{\\alpha}(b-x)^{\\beta}}  dx = \\bigg\\{ \\beta = 0 \\bigg\\} = \\int_{2.5}^{3.3} \\dfrac{f(x)}{\\left(x-2.5\\right)^{2/3}} dx = \\int_{2.5}^{3.3} \\dfrac{3 \\cos\\left(\\dfrac{3x}{2}\\right) e\\left(\\dfrac{x}{4}\\right) + 4 \\sin\\left(\\dfrac{7x}{2}\\right) e(−3x) + 4x}{\\left(x-2.5\\right)^{2/3}} dx $$\n",
    "\n",
    "$$p(x)=\\dfrac{1}{\\left(x-2.5\\right)^{2/3}} = \\left(x-2.5\\right)^{-2/3}$$\n",
    "<u>Примечание</u>: узлы каждой малой 3-х-точечной КФ Гаусса находить с помощью <u>формул Кардано</u>."
   ]
  },
  {
   "cell_type": "markdown",
   "id": "474f5b2b",
   "metadata": {},
   "source": [
    "![image](./images/СКФ.png)"
   ]
  },
  {
   "cell_type": "markdown",
   "id": "e0d455a8",
   "metadata": {},
   "source": [
    "![image](./images/momentum.png)"
   ]
  },
  {
   "cell_type": "markdown",
   "id": "19bc6084",
   "metadata": {},
   "source": [
    "![image](./images/АСТ1.png)\n",
    "![image](./images/alg.png)"
   ]
  },
  {
   "cell_type": "markdown",
   "id": "8e4c152c",
   "metadata": {},
   "source": [
    "### Вычисление моментов\n",
    "Для начала руками посчитаем моменты $0, 1$ и $2$ порядков (потому что мы пользуемся <b>трехточечными формулами</b> — на каждом частичном интервале берется $3$ точки, $i=\\overline{0,n-1}=\\overline{0,3-1}=\\overline{0,2}$)\n",
    "$$\\mu_i = \\int_{2.5}^{3.3} p(x)x^i dx = \\int_{2.5}^{3.3} \\dfrac{x^i}{\\left(x-2.5\\right)^{2/3}} dx, \\;\\; i=\\overline{0,2}$$\n",
    "![image](./images/mu0mu1mu2.png)"
   ]
  },
  {
   "cell_type": "code",
   "execution_count": 515,
   "id": "ee1ca828",
   "metadata": {},
   "outputs": [],
   "source": [
    "def momentum(i, a, b, h):\n",
    "    \"\"\"Вычисление трех моментов порядков i=0, 1, 2 на \n",
    "    частичном промежутке [a, b]\"\"\"\n",
    "    res0, res1, res2 = 0, 0, 0\n",
    "    h = h\n",
    "    \n",
    "    res0 = ((b - 2.5)**(1-(2/3)) - (a - 2.5)**(1-(2/3))) / (1-(2/3))\n",
    "    res1 = (((b - 2.5)**(2-(2/3)) - (a - 2.5)**(2-(2/3))) / (2-(2/3))) + 2.5*res0\n",
    "    res2 = (((b - 2.5)**(3-(2/3)) - (a - 2.5)**(3-(2/3))) / (3-(2/3))) + 2*2.5*res1 - (2.5**2)*res0\n",
    "    \n",
    "    if i == 0:\n",
    "        return res0\n",
    "    elif i == 1:\n",
    "        return res1\n",
    "    else:\n",
    "        return res2"
   ]
  },
  {
   "cell_type": "markdown",
   "id": "25a84dd6",
   "metadata": {},
   "source": [
    "### СКФ Ньютона-Котеса (ИКФ с равноотстоящими узлами)"
   ]
  },
  {
   "cell_type": "code",
   "execution_count": 516,
   "id": "f56e5a14",
   "metadata": {},
   "outputs": [],
   "source": [
    "def newt_cot(num_nodes):\n",
    "    a, b, n = 2.5, 3.3, num_nodes\n",
    "    nodes = np.linspace(a, b, n)\n",
    "    h = (b-a)/n\n",
    "    s = 0\n",
    "    \n",
    "    for i in range(1, len(nodes)):\n",
    "        c = np.array([\n",
    "            [1, 1, 1],\n",
    "            [a+(i-1)*h, a+(i-0.5)*h, a+i*h],\n",
    "            [(a+(i-1)*h)**2, (a+(i-0.5)*h)**2, (a+i*h)**2]\n",
    "        ])\n",
    "        \n",
    "        mu_vec = np.array([\n",
    "            [momentum(0, a+(i-1)*h, a+(i)*h, h)],\n",
    "            [momentum(1, a+(i-1)*h, a+(i)*h, h)],\n",
    "            [momentum(2, a+(i-1)*h, a+(i)*h, h)]\n",
    "        ])\n",
    "\n",
    "        A = np.linalg.solve(c, mu_vec)\n",
    "\n",
    "        s += (A[0]*f(a+(i-1)*h) + A[1]*f(a+(i-0.5)*h) + A[2]*f(a+i*h))\n",
    "\n",
    "    return s"
   ]
  },
  {
   "cell_type": "code",
   "execution_count": 526,
   "id": "b27c8721",
   "metadata": {},
   "outputs": [
    {
     "data": {
      "text/plain": [
       "array([20.72477144])"
      ]
     },
     "execution_count": 526,
     "metadata": {},
     "output_type": "execute_result"
    }
   ],
   "source": [
    "newt_cot(2500)"
   ]
  },
  {
   "cell_type": "markdown",
   "id": "0379bf03",
   "metadata": {},
   "source": [
    "### СКФ Гаусса (КФНАСТ — ИКФ с узлами, которые обеспечивают НАСТ)"
   ]
  },
  {
   "cell_type": "markdown",
   "id": "138fe1c3",
   "metadata": {},
   "source": [
    "![image](./images/КФНАСТ1.png)\n",
    "![image](./images/КФНАСТ-alg.png)"
   ]
  },
  {
   "cell_type": "markdown",
   "id": "ebe28625",
   "metadata": {},
   "source": [
    "### Формула Кардано"
   ]
  },
  {
   "cell_type": "code",
   "execution_count": null,
   "id": "37838cc3",
   "metadata": {},
   "outputs": [],
   "source": [
    "def kardano(b,c,d,a=1):\n",
    "    \"\"\"y = x + b/3a\"\"\"\n",
    "   \n",
    "    q = 0.5*(((2*b**3)/(27*a**3)) - (b*c/3*a**2) + d/a)\n",
    "    p = ((3*a*c - b**2)/(3*a**2)) / 3\n",
    "    if (p >= 0) or (q**2+p**3 > 0):\n",
    "        return 'there are complex roots, лох'\n",
    "    if q < 0:\n",
    "        r = (-1)*np.sqrt(np.abs(p))\n",
    "    else:\n",
    "        r = np.sqrt(np.abs(p))\n",
    "\n",
    "    pi = 3.14159265\n",
    "    \n",
    "    # np.cos(phi) = q/r**3\n",
    "    phi = np.arccos(q/r**3)\n",
    "\n",
    "    y1 = -2*r*np.cos(phi/3)\n",
    "    y2 = 2*r*np.cos(pi/3 - phi/3)\n",
    "    y3 = 2*r*np.cos(pi/3 + phi/3)\n",
    "\n",
    "    x=[]\n",
    "    res = [y1,y2,y3]\n",
    "\n",
    "    for _ in res:\n",
    "        x.append(_ - b/3*a)\n",
    "    return x"
   ]
  },
  {
   "cell_type": "code",
   "execution_count": 529,
   "id": "ba26a0b0",
   "metadata": {},
   "outputs": [],
   "source": [
    "def momentum2(i, a, b, h):\n",
    "    \"\"\"Вычисление трех моментов порядков i на \n",
    "    частичном промежутке [x_i, x_{i+1}]\"\"\"\n",
    "    h = h\n",
    "    \n",
    "    if i == 3:\n",
    "        a3 = 3.21429*(a-2.5)**(7/3)+14.0625*(a-2.5)**(4/3)+0.3*(a-2.5)**(10/3)+46.875*(a-2.5)**(1/3)\n",
    "        b3 = 3.21429*(b-2.5)**(7/3)+14.0625*(b-2.5)**(4/3)+0.3*(b-2.5)**(10/3)+46.875*(b-2.5)**(1/3)\n",
    "        return b3-a3\n",
    "    if i == 4:\n",
    "        a4 = 16.0714*(a-2.5)**(7/3)+46.875*(a-2.5)**(4/3)+0.230769*(a-2.5)**(13/3)+3*(a-2.5)**(10/3)+117.188*(a-2.5)**(1/3)\n",
    "        b4 = 16.0714*(b-2.5)**(7/3)+46.875*(b-2.5)**(4/3)+0.230769*(b-2.5)**(13/3)+3*(b-2.5)**(10/3)+117.188*(b-2.5)**(1/3)\n",
    "        return b4-a4\n",
    "    if i == 5:\n",
    "        a5 = 66.9643*(a-2.5)**(7/3)+146.484*(a-2.5)**(4/3)+0.1875*(a-2.5)**(16/3)+2.88462*(a-2.5)**(13/3)+18.75*(a-2.5)**(10/3)+292.969*(a-2.5)**(1/3)\n",
    "        b5 = 66.9643*(b-2.5)**(7/3)+146.484*(b-2.5)**(4/3)+0.1875*(b-2.5)**(16/3)+2.88462*(b-2.5)**(13/3)+18.75*(b-2.5)**(10/3)+292.969*(b-2.5)**(1/3)\n",
    "        return b5-a5\n",
    "\n",
    "#     S = 0\n",
    "#     for k in range(i):\n",
    "#         S += h*((((-1)**k)*math.comb(i, k)*((point+2*h-2.5)**(i-k))*(-2.5)**k)/(3*i-3*k+1))*(3*(point+2*h-2.5)**(1/3)) - (((-1)**k)*math.comb(i, k)*(((point-2.5)**(i-k))*(-2.5)**k)/(3*i-3*k+1))*(3*(point-2.5)**(1/3)) \n",
    "#     S += h*((((-1)**k)*math.comb(i, k)*((point+2*h-2.5)**(i-k))*(-2.5)**k)/(3*i-3*k+1))*(3*(point+2*h-2.5)**(1/3)) - (((-1)**k)*math.comb(i, k)*(((point-2.5)**(i-k))*(-2.5)**k)/(3*i-3*k+1))*(3*(point-2.5)**(1/3)) \n",
    "#     return S"
   ]
  },
  {
   "cell_type": "code",
   "execution_count": 530,
   "id": "2b1eb33c",
   "metadata": {},
   "outputs": [],
   "source": [
    "def gauss(num_nodes):\n",
    "    a, b, n = 2.5, 3.3, num_nodes\n",
    "    nodes = np.linspace(a, b, n)\n",
    "    h = (b-a)/n\n",
    "    s = 0\n",
    "    \n",
    "    for i in range(1, len(nodes)):\n",
    "#         1) посчитать моменты\n",
    "        mu0 = momentum(0, a+(i-1)*h, a+(i)*h, h)\n",
    "        mu1 = momentum(1, a+(i-1)*h, a+(i)*h, h)\n",
    "        mu2 = momentum(2, a+(i-1)*h, a+(i)*h, h)\n",
    "        \n",
    "        mu3 = momentum2(3, a+(i-1)*h, a+(i)*h, h)\n",
    "        mu4 = momentum2(4, a+(i-1)*h, a+(i)*h, h)\n",
    "        mu5 = momentum2(5, a+(i-1)*h, a+(i)*h, h)\n",
    "#         TODO: пересчитать моменты 3-5 порядков\n",
    "        \n",
    "        c = np.array([\n",
    "            [mu0, mu1, mu2],\n",
    "            [mu1, mu2, mu3],\n",
    "            [mu2, mu3, mu4]\n",
    "        ])  \n",
    "        \n",
    "        mu_vec = np.array([\n",
    "            [-mu3],\n",
    "            [-mu4],\n",
    "            [-mu5]\n",
    "        ])\n",
    "#         2) вычислить a_j через СЛАУ\n",
    "        a = np.linalg.solve(c, mu_vec)\n",
    "        print(a)\n",
    "        \n",
    "#         3) найти узлы как корни кубического ур-я с коэффициентами a_j из 2) — по формулам Кардано\n",
    "        nodes = kardano(float(a[0]), float(a[1]), float(a[2]))\n",
    "        print(nodes)\n",
    "        \n",
    "#         4)\n",
    "        C = np.array([\n",
    "            [1, 1, 1],\n",
    "            [float(nodes[0]), float(nodes[1]), float(nodes[2])],\n",
    "            [float(nodes[0])**2, float(nodes[1])**2, float(nodes[2])**2],\n",
    "        ])\n",
    "        \n",
    "        Mu_vec = np.array([\n",
    "            [momentum(0, a+(i-1)*h, a+(i)*h, h)],\n",
    "            [momentum(1, a+(i-1)*h, a+(i)*h, h)],\n",
    "            [momentum(2, a+(i-1)*h, a+(i)*h, h)]\n",
    "        ])\n",
    "\n",
    "        A = np.linalg.solve(c, mu_vec)\n",
    "\n",
    "        s += (A[0]*f(a+(i-1)*h) + A[1]*f(a+(i-0.5)*h) + A[2]*f(a+i*h))\n",
    "\n",
    "    return s"
   ]
  },
  {
   "cell_type": "code",
   "execution_count": 531,
   "id": "cecaff24",
   "metadata": {},
   "outputs": [
    {
     "name": "stdout",
     "output_type": "stream",
     "text": [
      "[[ 62.84202551]\n",
      " [-42.9115932 ]\n",
      " [  4.61166372]]\n",
      "[-63.51874224966935, 0.543012248353353, 0.13370458319727518]\n"
     ]
    },
    {
     "name": "stderr",
     "output_type": "stream",
     "text": [
      "/var/folders/8b/6ssktshx6r1fmq77tl5ypb7c0000gn/T/ipykernel_49457/3985019338.py:7: RuntimeWarning: invalid value encountered in power\n",
      "  res0 = ((b - 2.5)**(1-(2/3)) - (a - 2.5)**(1-(2/3))) / (1-(2/3))\n",
      "/var/folders/8b/6ssktshx6r1fmq77tl5ypb7c0000gn/T/ipykernel_49457/3985019338.py:8: RuntimeWarning: invalid value encountered in power\n",
      "  res1 = (((b - 2.5)**(2-(2/3)) - (a - 2.5)**(2-(2/3))) / (2-(2/3))) + 2.5*res0\n",
      "/var/folders/8b/6ssktshx6r1fmq77tl5ypb7c0000gn/T/ipykernel_49457/3985019338.py:9: RuntimeWarning: invalid value encountered in power\n",
      "  res2 = (((b - 2.5)**(3-(2/3)) - (a - 2.5)**(3-(2/3))) / (3-(2/3))) + 2*2.5*res1 - (2.5**2)*res0\n",
      "/var/folders/8b/6ssktshx6r1fmq77tl5ypb7c0000gn/T/ipykernel_49457/3080977628.py:11: RuntimeWarning: invalid value encountered in power\n",
      "  a4 = 16.0714*(a-2.5)**(7/3)+46.875*(a-2.5)**(4/3)+0.230769*(a-2.5)**(13/3)+3*(a-2.5)**(10/3)+117.188*(a-2.5)**(1/3)\n",
      "/var/folders/8b/6ssktshx6r1fmq77tl5ypb7c0000gn/T/ipykernel_49457/3080977628.py:12: RuntimeWarning: invalid value encountered in power\n",
      "  b4 = 16.0714*(b-2.5)**(7/3)+46.875*(b-2.5)**(4/3)+0.230769*(b-2.5)**(13/3)+3*(b-2.5)**(10/3)+117.188*(b-2.5)**(1/3)\n",
      "/var/folders/8b/6ssktshx6r1fmq77tl5ypb7c0000gn/T/ipykernel_49457/3080977628.py:15: RuntimeWarning: invalid value encountered in power\n",
      "  a5 = 66.9643*(a-2.5)**(7/3)+146.484*(a-2.5)**(4/3)+0.1875*(a-2.5)**(16/3)+2.88462*(a-2.5)**(13/3)+18.75*(a-2.5)**(10/3)+292.969*(a-2.5)**(1/3)\n",
      "/var/folders/8b/6ssktshx6r1fmq77tl5ypb7c0000gn/T/ipykernel_49457/3080977628.py:16: RuntimeWarning: invalid value encountered in power\n",
      "  b5 = 66.9643*(b-2.5)**(7/3)+146.484*(b-2.5)**(4/3)+0.1875*(b-2.5)**(16/3)+2.88462*(b-2.5)**(13/3)+18.75*(b-2.5)**(10/3)+292.969*(b-2.5)**(1/3)\n"
     ]
    },
    {
     "ename": "LinAlgError",
     "evalue": "Last 2 dimensions of the array must be square",
     "output_type": "error",
     "traceback": [
      "\u001b[0;31m---------------------------------------------------------------------------\u001b[0m",
      "\u001b[0;31mLinAlgError\u001b[0m                               Traceback (most recent call last)",
      "Cell \u001b[0;32mIn[531], line 1\u001b[0m\n\u001b[0;32m----> 1\u001b[0m \u001b[43mgauss\u001b[49m\u001b[43m(\u001b[49m\u001b[38;5;241;43m10\u001b[39;49m\u001b[43m)\u001b[49m\n",
      "Cell \u001b[0;32mIn[530], line 30\u001b[0m, in \u001b[0;36mgauss\u001b[0;34m(num_nodes)\u001b[0m\n\u001b[1;32m     24\u001b[0m         mu_vec \u001b[38;5;241m=\u001b[39m np\u001b[38;5;241m.\u001b[39marray([\n\u001b[1;32m     25\u001b[0m             [\u001b[38;5;241m-\u001b[39mmu3],\n\u001b[1;32m     26\u001b[0m             [\u001b[38;5;241m-\u001b[39mmu4],\n\u001b[1;32m     27\u001b[0m             [\u001b[38;5;241m-\u001b[39mmu5]\n\u001b[1;32m     28\u001b[0m         ])\n\u001b[1;32m     29\u001b[0m \u001b[38;5;66;03m#         2) вычислить a_j через СЛАУ\u001b[39;00m\n\u001b[0;32m---> 30\u001b[0m         a \u001b[38;5;241m=\u001b[39m \u001b[43mnp\u001b[49m\u001b[38;5;241;43m.\u001b[39;49m\u001b[43mlinalg\u001b[49m\u001b[38;5;241;43m.\u001b[39;49m\u001b[43msolve\u001b[49m\u001b[43m(\u001b[49m\u001b[43mc\u001b[49m\u001b[43m,\u001b[49m\u001b[43m \u001b[49m\u001b[43mmu_vec\u001b[49m\u001b[43m)\u001b[49m\n\u001b[1;32m     31\u001b[0m         \u001b[38;5;28mprint\u001b[39m(a)\n\u001b[1;32m     33\u001b[0m \u001b[38;5;66;03m#         3) найти узлы как корни кубического ур-я с коэффициентами a_j из 2) — по формулам Кардано\u001b[39;00m\n",
      "File \u001b[0;32m<__array_function__ internals>:200\u001b[0m, in \u001b[0;36msolve\u001b[0;34m(*args, **kwargs)\u001b[0m\n",
      "File \u001b[0;32m/Library/Frameworks/Python.framework/Versions/3.10/lib/python3.10/site-packages/numpy/linalg/linalg.py:373\u001b[0m, in \u001b[0;36msolve\u001b[0;34m(a, b)\u001b[0m\n\u001b[1;32m    371\u001b[0m a, _ \u001b[38;5;241m=\u001b[39m _makearray(a)\n\u001b[1;32m    372\u001b[0m _assert_stacked_2d(a)\n\u001b[0;32m--> 373\u001b[0m \u001b[43m_assert_stacked_square\u001b[49m\u001b[43m(\u001b[49m\u001b[43ma\u001b[49m\u001b[43m)\u001b[49m\n\u001b[1;32m    374\u001b[0m b, wrap \u001b[38;5;241m=\u001b[39m _makearray(b)\n\u001b[1;32m    375\u001b[0m t, result_t \u001b[38;5;241m=\u001b[39m _commonType(a, b)\n",
      "File \u001b[0;32m/Library/Frameworks/Python.framework/Versions/3.10/lib/python3.10/site-packages/numpy/linalg/linalg.py:190\u001b[0m, in \u001b[0;36m_assert_stacked_square\u001b[0;34m(*arrays)\u001b[0m\n\u001b[1;32m    188\u001b[0m m, n \u001b[38;5;241m=\u001b[39m a\u001b[38;5;241m.\u001b[39mshape[\u001b[38;5;241m-\u001b[39m\u001b[38;5;241m2\u001b[39m:]\n\u001b[1;32m    189\u001b[0m \u001b[38;5;28;01mif\u001b[39;00m m \u001b[38;5;241m!=\u001b[39m n:\n\u001b[0;32m--> 190\u001b[0m     \u001b[38;5;28;01mraise\u001b[39;00m LinAlgError(\u001b[38;5;124m'\u001b[39m\u001b[38;5;124mLast 2 dimensions of the array must be square\u001b[39m\u001b[38;5;124m'\u001b[39m)\n",
      "\u001b[0;31mLinAlgError\u001b[0m: Last 2 dimensions of the array must be square"
     ]
    }
   ],
   "source": [
    "gauss(10)"
   ]
  },
  {
   "cell_type": "markdown",
   "id": "e5e26942",
   "metadata": {},
   "source": [
    "## Часть 1.3. Для каждой квадратурной формулы из частей 1.1 — 1.2 нарисовать график зависимости абсолютной погрешности от количества разбиений интервала интегрирования"
   ]
  },
  {
   "cell_type": "markdown",
   "id": "81f9eca6",
   "metadata": {},
   "source": [
    "### График для части 1.1"
   ]
  },
  {
   "cell_type": "code",
   "execution_count": 146,
   "id": "5135d59e",
   "metadata": {},
   "outputs": [
    {
     "data": {
      "image/png": "[encoded data removed]",
      "text/plain": [
       "<Figure size 800x500 with 1 Axes>"
      ]
     },
     "metadata": {},
     "output_type": "display_data"
    }
   ],
   "source": [
    "v1,v2,v3,v4=[],[],[],[]\n",
    "ii=[]\n",
    "# integrate (3*cos(3*x/2)*exp(x/4) + 4*sin(7*x/2)*exp(-3*x) + 4*x) dx from 2.5 to 3.3\n",
    "for i in range(2, 2500, 10):\n",
    "    ii.append(i)\n",
    "    v1.append(7.71357-mid_sq(i))\n",
    "    v2.append(7.71357-left_sq(i))\n",
    "    v3.append(7.71357-trapez(i))\n",
    "    v4.append(7.71357-simp(i))\n",
    "\n",
    "fig = plt.figure()\n",
    "fig.size = (1,5)\n",
    "plt.plot(ii, v1, '.-', label='Метод средних прямоугольников')\n",
    "plt.plot(ii, v2, '-', label='Метод левых прямоугольников')\n",
    "plt.plot(ii, v3, '-.', label='Метод трапеций')\n",
    "plt.plot(ii, v4, '-.', label='Метод Симпсона')\n",
    "plt.xlabel('Число разбиений $[a, b]$')\n",
    "plt.ylabel('Абсолютная погрешность')\n",
    "plt.legend(loc='best')\n",
    "plt.show()"
   ]
  },
  {
   "cell_type": "markdown",
   "id": "e5359214",
   "metadata": {},
   "source": [
    "### График для части 1.2"
   ]
  },
  {
   "cell_type": "code",
   "execution_count": 505,
   "id": "231d7ea5",
   "metadata": {},
   "outputs": [
    {
     "data": {
      "image/png": "[encoded data removed]",
      "text/plain": [
       "<Figure size 800x500 with 1 Axes>"
      ]
     },
     "metadata": {},
     "output_type": "display_data"
    }
   ],
   "source": [
    "v1,v2=[],[]\n",
    "ii=[]\n",
    "# integrate (3*cos(3*x/2)*exp(x/4) + 4*sin(7*x/2)*exp(-3*x) + 4*x)/(x-2.5)^(2/3) dx from 2.5 to 3.3\n",
    "for i in range(3, 2500, 10):\n",
    "    ii.append(i)\n",
    "    v1.append(20.7303-newt_cot(i))\n",
    "#     v2.append(20.7303-left_sq(i))\n",
    "\n",
    "fig = plt.figure()\n",
    "\n",
    "plt.plot(ii, v1, '.-', label='ИКФ Ньютона-Котеса', color='mediumaquamarine')\n",
    "# plt.plot(ii, v2, '-', label='ИКФ Гаусса')\n",
    "\n",
    "plt.xlabel('Число разбиений $[a, b]$')\n",
    "plt.ylabel('Абсолютная погрешность')\n",
    "plt.legend(loc='best')\n",
    "plt.show()"
   ]
  },
  {
   "cell_type": "code",
   "execution_count": null,
   "id": "a155e0be",
   "metadata": {},
   "outputs": [],
   "source": []
  },
  {
   "cell_type": "code",
   "execution_count": null,
   "id": "cd264614",
   "metadata": {},
   "outputs": [],
   "source": []
  },
  {
   "cell_type": "code",
   "execution_count": null,
   "id": "5c12f359",
   "metadata": {},
   "outputs": [],
   "source": []
  },
  {
   "cell_type": "markdown",
   "id": "8e0ec18f",
   "metadata": {},
   "source": [
    "# Часть 2. Методы оценки погрешности составных квадратурных формул"
   ]
  },
  {
   "cell_type": "markdown",
   "id": "d8ddf488",
   "metadata": {},
   "source": [
    "### Часть 2.1. Посчитать интеграл с заданной точностью $\\varepsilon = 10^{-6}$ c использованием 3-х-точечной СКФ Ньютона-Котеса. Погрешность оценивать методом Ричардсона. На каждых последовательных трех точках оценивать скорость сходимости по правилу Эйткена. Указать длину шага $h$ разбиения интервала интегрирования, при котором была достигнута требуемая точность $\\varepsilon$."
   ]
  },
  {
   "cell_type": "markdown",
   "id": "c3fcb88c",
   "metadata": {},
   "source": [
    "### Часть 2.2. Повторить часть 2.1, используя 3-х-точечные формулы Гаусса вместо формул Ньютона-Котеса."
   ]
  },
  {
   "cell_type": "markdown",
   "id": "466daa88",
   "metadata": {},
   "source": [
    "### Часть 2.3. Проведя вычисления (для одной из построенных КФ из частей 2.1 — 2.2) по трем сеткам с малым числом шагов (например, 1, 2, 4) и испольщуя оценку скорости сходимости по Эйткену, выбрать шаг $h_{opt}$. Начать рассчет с полученного шага и снова довести вычисления интеграла до требуемой точности $\\varepsilon$. Указать шаг разбиения интеравала интегрирования, при котором достигнута требуемая точность, и сравнить его с шагом, вычисленным в частях 2.1 (или 2.2) — в зависимости от того, какую КФ выбираем для выполения части 2.3)"
   ]
  },
  {
   "cell_type": "code",
   "execution_count": null,
   "id": "6e467d26",
   "metadata": {},
   "outputs": [],
   "source": []
  }
 ],
 "metadata": {
  "kernelspec": {
   "display_name": "Python 3 (ipykernel)",
   "language": "python",
   "name": "python3"
  },
  "language_info": {
   "codemirror_mode": {
    "name": "ipython",
    "version": 3
   },
   "file_extension": ".py",
   "mimetype": "text/x-python",
   "name": "python",
   "nbconvert_exporter": "python",
   "pygments_lexer": "ipython3",
   "version": "3.10.10"
  }
 },
 "nbformat": 4,
 "nbformat_minor": 5
}
