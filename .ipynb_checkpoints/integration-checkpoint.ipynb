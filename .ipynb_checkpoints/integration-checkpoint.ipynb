{
 "cells": [
  {
   "cell_type": "markdown",
   "id": "b6c9a769",
   "metadata": {},
   "source": [
    "## Шмидт Ян, 304 гр., 2023, Вариант 9\n",
    "$$f(x) = 3 \\cos\\left(\\dfrac{3x}{2}\\right) e\\left(\\dfrac{x}{4}\\right) + 4 \\sin\\left(\\dfrac{7x}{2}\\right) e(−3x) + 4x$$\n",
    "\n",
    "$$a=2.5, b=3.3, \\alpha=\\dfrac{2}{3}, \\beta=0$$\n",
    "## Часть 1. Квадратурные формулы (КФ) Ньютона-Котеса и Гаусса "
   ]
  },
  {
   "cell_type": "markdown",
   "id": "0ace2cc8",
   "metadata": {},
   "source": [
    "### Часть 1.1. Посчитать интеграл с использованием составных квадратурных формул (СКФ): \n",
    "<i> 1) средних и 2) левых прямоугольников, 3) трапеции, 4) Симпсона </i>\n",
    "### Подынтегральная функция — $f(x)$ из своего варианта ($p(x) \\equiv 1$):\n",
    "Посчитать $$\\int_{a}^{b} f(x) dx = \\int_{2.5}^{3.3} \\left[3 \\cos\\left(\\dfrac{3x}{2}\\right) e\\left(\\dfrac{x}{4}\\right) + 4 \\sin\\left(\\dfrac{7x}{2}\\right) e(−3x) + 4x\\right] dx$$"
   ]
  },
  {
   "cell_type": "code",
   "execution_count": null,
   "id": "08d47080",
   "metadata": {},
   "outputs": [],
   "source": []
  },
  {
   "cell_type": "code",
   "execution_count": null,
   "id": "f8bf375d",
   "metadata": {},
   "outputs": [],
   "source": []
  },
  {
   "cell_type": "code",
   "execution_count": null,
   "id": "0b165e2a",
   "metadata": {},
   "outputs": [],
   "source": []
  },
  {
   "cell_type": "code",
   "execution_count": null,
   "id": "afc87476",
   "metadata": {},
   "outputs": [],
   "source": []
  },
  {
   "cell_type": "markdown",
   "id": "0d8c4e3e",
   "metadata": {},
   "source": [
    "### Часть 1.2. Посчитать интеграл с использованием СКФ на базе 3-x-точечных формул \n",
    "<i> 1) Ньютона-Котеса, 2) Гаусса </i> \n",
    "### Подынтегральная функция — $F(x) = p(x)\\cdot f(x)$ из своего варианта ($p(x) \\not\\equiv 1$):\n",
    "\n",
    "Посчитать $$\\int_{a}^{b} F(x) dx = \\int_{a}^{b} p(x)\\cdot f(x) dx = \\int_{2.5}^{3.3} \\left[ \\dfrac{3 \\cos\\left(\\dfrac{3x}{2}\\right) e\\left(\\dfrac{x}{4}\\right) + 4 \\sin\\left(\\dfrac{7x}{2}\\right) e(−3x) + 4x}{(x-a)^{-\\alpha}(b-x)^{-\\beta}} \\right] dx = \\bigg\\{ \\beta = 0 \\bigg\\} = \\int_{2.5}^{3.3} \\left[ \\dfrac{3 \\cos\\left(\\dfrac{3x}{2}\\right) e\\left(\\dfrac{x}{4}\\right) + 4 \\sin\\left(\\dfrac{7x}{2}\\right) e(−3x) + 4x}{\\left(x-\\dfrac{7}{2}\\right)^{-\\dfrac{2}{3}}} \\right] dx $$\n",
    "#### <u>Примечание</u>: узлы каждой малой 3-х-точечной КФ Гаусса находить с помощью <u>формул Кардано</u>."
   ]
  },
  {
   "cell_type": "markdown",
   "id": "e5e26942",
   "metadata": {},
   "source": [
    "### Часть 1.3. Для каждой квадратурной формулы из частей 1.1 — 1.2 нарисовать график зависимости абсолютной погрешности от количества разбиений интервала интегрирования"
   ]
  },
  {
   "cell_type": "markdown",
   "id": "8e0ec18f",
   "metadata": {},
   "source": [
    "## Часть 2. Методы оценки погрешности составных квадратурных формул"
   ]
  },
  {
   "cell_type": "markdown",
   "id": "98e352ad",
   "metadata": {},
   "source": [
    "### Часть 2.1. Посчитать интеграл с заданной точностью $\\varepsilon = 10^{-6}$ c использованием 3-х-точечной СКФ Ньютона-Котеса. Погрешность оценивать методом Ричардсона. На каждых последовательных трех точках оценивать скорость сходимости по правилу Эйткена. Указать длину шага $h$ разбиения интервала интегрирования, при котором была достигнута требуемая точность $\\varepsilon$."
   ]
  },
  {
   "cell_type": "markdown",
   "id": "ecd9467b",
   "metadata": {},
   "source": [
    "### Часть 2.2. Повторить часть 2.1, используя 3-х-точечные формулы Гаусса вместо формул Ньютона-Котеса."
   ]
  },
  {
   "cell_type": "markdown",
   "id": "c3334e57",
   "metadata": {},
   "source": [
    "### Часть 2.3. Проведя вычисления (для одной из построенных КФ из частей 2.1 — 2.2) по трем сеткам с малым числом шагов (например, 1, 2, 4) и испольщуя оценку скорости сходимости по Эйткену, выбрать шаг $h_{opt}$. Начать рассчет с полученного шага и снова довести вычисления интеграла до требуемой точности $\\varepsilon$. Указать шаг разбиения интеравала интегрирования, при котором достигнута требуемая точность, и сравнить его с шагом, вычисленным в частях 2.1 (или 2.2) — в зависимости от того, какую КФ выбираем для выполения части 2.3)"
   ]
  },
  {
   "cell_type": "code",
   "execution_count": null,
   "id": "96e31c8c",
   "metadata": {},
   "outputs": [],
   "source": []
  }
 ],
 "metadata": {
  "kernelspec": {
   "display_name": "Python 3 (ipykernel)",
   "language": "python",
   "name": "python3"
  },
  "language_info": {
   "codemirror_mode": {
    "name": "ipython",
    "version": 3
   },
   "file_extension": ".py",
   "mimetype": "text/x-python",
   "name": "python",
   "nbconvert_exporter": "python",
   "pygments_lexer": "ipython3",
   "version": "3.10.10"
  }
 },
 "nbformat": 4,
 "nbformat_minor": 5
}
