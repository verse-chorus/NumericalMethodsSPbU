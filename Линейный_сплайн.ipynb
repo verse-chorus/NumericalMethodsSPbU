{
 "cells": [
  {
   "cell_type": "markdown",
   "id": "4e188de4",
   "metadata": {},
   "source": [
    "## Линейные сплайны"
   ]
  },
  {
   "cell_type": "markdown",
   "id": "49deda4f",
   "metadata": {},
   "source": [
    "$\\textbf{Линейный сплайн}$ (дефекта 1), интерполирующий $f(x)$ на $[a, b]$: $$c(x) := b_k + a_k (x-x_k),$$ \n",
    "\n",
    "где $x\\in [x_{k-1}, x_{k}] \\big|_{k=1}^n$\n",
    "\n",
    "$\\textbf{Обозначение линейного сплайна дефекта 1}$: $S^n_{1,0}$, где $n, 1, 0$ - кол-во узлов интерполирования, старшая степень и порядок гладкости сплайна соответственно."
   ]
  },
  {
   "cell_type": "code",
   "execution_count": 1,
   "id": "2386ab54",
   "metadata": {},
   "outputs": [],
   "source": [
    "import numpy as np\n",
    "import matplotlib.pyplot as plt \n",
    "np.set_printoptions(suppress=True) # чтобы оч маленькие значения печатались в виде нулей"
   ]
  },
  {
   "cell_type": "code",
   "execution_count": 2,
   "id": "fdd5d6a2",
   "metadata": {},
   "outputs": [],
   "source": [
    "# Исходная функция\n",
    "def fn(x):\n",
    "    return x**2 + 4*np.sin(x) - 2 "
   ]
  },
  {
   "cell_type": "markdown",
   "id": "e7f66abf",
   "metadata": {},
   "source": [
    "## По $m$ равноотстоящим узлам"
   ]
  },
  {
   "cell_type": "code",
   "execution_count": 3,
   "id": "bef7dec8",
   "metadata": {},
   "outputs": [],
   "source": [
    "def lin_spline(arg, a, b, m, fig=None):\n",
    "    x = np.linspace(a, b, m)\n",
    "    # n - число линейных сплайнов\n",
    "    n = m - 1\n",
    "\n",
    "    # AB = C\n",
    "    A = np.zeros((2*n, 2*n))\n",
    "    C = np.zeros(2*n)\n",
    "\n",
    "    for i in range(n):\n",
    "        A[i, i] = x[i]\n",
    "        A[i, n+i] = 1\n",
    "\n",
    "        # Строки [n, 2n-1]\n",
    "        A[n+i, i] = x[i+1]\n",
    "        A[n+i, n+i] = 1\n",
    "\n",
    "        C[i] = fn(x[i])\n",
    "        C[n+i] = fn(x[i+1])\n",
    "\n",
    "    # В последней строке задаем a_1 = 1    \n",
    "    A[2*n-1, 0] = 1\n",
    "\n",
    "    # Решаем относительно b\n",
    "    B = np.linalg.solve(A,C)\n",
    "    ai = B[:n]\n",
    "    bi = B[n:2*n]\n",
    "    \n",
    "    # График     \n",
    "    if fig == True:\n",
    "        plt.figure()\n",
    "        for k in range(n):\n",
    "            xspline = np.linspace(x[k], x[k+1])\n",
    "            yspline = ai[k]*xspline + bi[k]\n",
    "            plt.plot(xspline, yspline, '-', linewidth=4)\n",
    "        plt.xlabel('$x$')\n",
    "        plt.ylabel('$y$')\n",
    "        plt.title('$S_{1,0}^n$ по равноотстоящим узлам для $f(x)$')\n",
    "        plt.show()\n",
    "        \n",
    "    # Вычисление значений    \n",
    "    elif fig == None:\n",
    "        flag, res = 0, 0\n",
    "        eps = 10**(-6)\n",
    "        for i in range(n):\n",
    "            if arg == a:\n",
    "                arg += eps\n",
    "                flag = i\n",
    "                res = ai[flag]*arg + bi[flag]\n",
    "            elif arg == b:\n",
    "                arg -= eps\n",
    "                flag = i\n",
    "                res = ai[flag]*arg + bi[flag]\n",
    "            elif (arg > x[i]) and (arg < x[i+1]):\n",
    "                flag = i\n",
    "                res = ai[flag]*arg + bi[flag]\n",
    "        return res"
   ]
  },
  {
   "cell_type": "markdown",
   "id": "13b1bb93",
   "metadata": {},
   "source": [
    "## Изобразим $S_{1,0}^m$"
   ]
  },
  {
   "cell_type": "code",
   "execution_count": 5,
   "id": "b11d36a7",
   "metadata": {},
   "outputs": [
    {
     "data": {
      "image/png": "[encoded data removed]",
      "text/plain": [
       "<Figure size 432x288 with 1 Axes>"
      ]
     },
     "metadata": {
      "needs_background": "light"
     },
     "output_type": "display_data"
    }
   ],
   "source": [
    "lin_spline(arg=10, a=-10, b=10, m=8, fig=True)"
   ]
  },
  {
   "cell_type": "markdown",
   "id": "717d66b0",
   "metadata": {},
   "source": [
    "## Оптимальные узлы Чебышева $$x_i = 0.5 \\left((b-a)\\cos\\dfrac{(2i+1)\\pi}{2(n+1)} + (b+a)\\right),\\; i\\in \\overline{0,n}$$"
   ]
  },
  {
   "cell_type": "code",
   "execution_count": 6,
   "id": "d0bc2152",
   "metadata": {},
   "outputs": [],
   "source": [
    "def optimal_lin_spline(arg, a, b, m, fig=None):\n",
    "    # оптимальные узлы Чебышева\n",
    "    chebish = []\n",
    "    for i in range(0, m):\n",
    "        chebish.append(0.5 * ((b-a)*np.cos(((2*i+1)*np.pi)/(2*(m+1))) + (b+a)))\n",
    "\n",
    "    # n - число линейных сплайнов\n",
    "    n = m - 1\n",
    "\n",
    "    # AB = C\n",
    "    A_opt = np.zeros((2*n, 2*n))\n",
    "    C_opt = np.zeros(2*n)\n",
    "\n",
    "    for i in range(n):\n",
    "        A_opt[i, i] = chebish[i]\n",
    "        A_opt[i, n+i] = 1\n",
    "\n",
    "        # Строки [n, 2n-1]\n",
    "        A_opt[n+i, i] = chebish[i+1]\n",
    "        A_opt[n+i, n+i] = 1\n",
    "\n",
    "        C_opt[i] = fn(chebish[i])\n",
    "        C_opt[n+i] = fn(chebish[i+1])\n",
    "\n",
    "    # В последней строке задаем a_1 = 1    \n",
    "    A_opt[2*n-1, 0] = 1\n",
    "\n",
    "    # Решаем относительно b\n",
    "    B_opt = np.linalg.solve(A_opt, C_opt)\n",
    "    ai_opt = B_opt[:n]\n",
    "    bi_opt = B_opt[n:2*n]\n",
    "    \n",
    "    # График     \n",
    "    if fig == True:\n",
    "        plt.figure()\n",
    "        for k in range(n):\n",
    "            xspline = np.linspace(chebish[k], chebish[k+1])\n",
    "            yspline = ai_opt[k]*xspline + bi_opt[k]\n",
    "            plt.plot(xspline, yspline, '-', linewidth=4)\n",
    "        plt.xlabel('$x$')\n",
    "        plt.ylabel('$y$')\n",
    "        plt.title('$S_{1,0}^n$ по узлам Чебышева для $f(x)$')\n",
    "        plt.show()\n",
    "        \n",
    "    # Вычисление значений    \n",
    "    elif fig == None:\n",
    "        flag, res = 0, 0\n",
    "        eps = 10**(-6)\n",
    "        for i in range(n):\n",
    "            if arg == a:\n",
    "                arg += eps\n",
    "                flag = i\n",
    "                res = ai_opt[flag]*arg + bi_opt[flag]\n",
    "            elif arg == b:\n",
    "                arg -= eps\n",
    "                flag = i\n",
    "                res = ai_opt[flag]*arg + bi_opt[flag]\n",
    "            elif (arg < chebish[i]) and (arg > chebish[i+1]):\n",
    "                flag = i\n",
    "                res = ai_opt[flag]*arg + bi_opt[flag]\n",
    "        return res"
   ]
  },
  {
   "cell_type": "markdown",
   "id": "b5542600",
   "metadata": {},
   "source": [
    "## Изобразим $S_{1,0}^{m_{opt}}$"
   ]
  },
  {
   "cell_type": "code",
   "execution_count": 9,
   "id": "63527d4a",
   "metadata": {},
   "outputs": [
    {
     "data": {
      "image/png": "[encoded data removed]",
      "text/plain": [
       "<Figure size 432x288 with 1 Axes>"
      ]
     },
     "metadata": {
      "needs_background": "light"
     },
     "output_type": "display_data"
    }
   ],
   "source": [
    "optimal_lin_spline(arg=10, a=-10, b=10, m=10, fig=True)"
   ]
  },
  {
   "cell_type": "markdown",
   "id": "4e5bb393",
   "metadata": {},
   "source": [
    "## Найдем максимальные отклонения $RS_{1,0}^n, RS_{1,0}^{n_{opt}}$"
   ]
  },
  {
   "cell_type": "code",
   "execution_count": 11,
   "id": "bbf8f484",
   "metadata": {
    "scrolled": false
   },
   "outputs": [
    {
     "name": "stdout",
     "output_type": "stream",
     "text": [
      "Введите количество k точек разбиения интервала интерполирования, в которых определяются отклонения: 20\n",
      "Введите максимальное количество max_nodes узлов: 50\n",
      "Введите a: -10\n",
      "Введите b: 10\n",
      "Таблица 1:\n",
      "-----------------------------------------------------------------------------------------------------------\n",
      "| кол-во узлов, n | кол-во точек разбиения, k   | max RSn_mp \t\t | max RSn_opt_mp \t\t|\n",
      "-----------------------------------------------------------------------------------------------------------\n",
      "|\t 3 \t|\t\t 20 \t  | 32.73869501914214 \t| 76.21748204760084 \t\t |\n",
      "-----------------------------------------------------------------------------------------------------------\n",
      "|\t 4 \t|\t\t 20 \t  | 15.944495961431826 \t| 76.21748204760084 \t\t |\n",
      "-----------------------------------------------------------------------------------------------------------\n",
      "|\t 5 \t|\t\t 20 \t  | 14.668059203442951 \t| 76.21748204760084 \t\t |\n",
      "-----------------------------------------------------------------------------------------------------------\n",
      "|\t 6 \t|\t\t 20 \t  | 16.26458581114467 \t| 76.21748204760084 \t\t |\n",
      "-----------------------------------------------------------------------------------------------------------\n",
      "|\t 7 \t|\t\t 20 \t  | 17.7684525810175 \t| 76.21748204760084 \t\t |\n",
      "-----------------------------------------------------------------------------------------------------------\n",
      "|\t 8 \t|\t\t 20 \t  | 18.965144521296025 \t| 76.21748204760084 \t\t |\n",
      "-----------------------------------------------------------------------------------------------------------\n",
      "|\t 9 \t|\t\t 20 \t  | 19.87121066300284 \t| 76.21748204760084 \t\t |\n",
      "-----------------------------------------------------------------------------------------------------------\n",
      "|\t 10 \t|\t\t 20 \t  | 20.551767729007665 \t| 13.139170386005645 \t\t |\n",
      "-----------------------------------------------------------------------------------------------------------\n",
      "|\t 11 \t|\t\t 20 \t  | 21.0667332484049 \t| 11.195187658618863 \t\t |\n",
      "-----------------------------------------------------------------------------------------------------------\n",
      "|\t 12 \t|\t\t 20 \t  | 21.461468517094644 \t| 9.279281787456512 \t\t |\n",
      "-----------------------------------------------------------------------------------------------------------\n",
      "|\t 13 \t|\t\t 20 \t  | 21.7684618996244 \t| 7.238986646521823 \t\t |\n",
      "-----------------------------------------------------------------------------------------------------------\n",
      "|\t 14 \t|\t\t 20 \t  | 22.01068160935243 \t| 5.00899498111454 \t\t |\n",
      "-----------------------------------------------------------------------------------------------------------\n",
      "|\t 15 \t|\t\t 20 \t  | 22.204420037227877 \t| 2.5654333368757136 \t\t |\n",
      "-----------------------------------------------------------------------------------------------------------\n",
      "|\t 16 \t|\t\t 20 \t  | 22.361351901686575 \t| 1.6940774369886107 \t\t |\n",
      "-----------------------------------------------------------------------------------------------------------\n",
      "|\t 17 \t|\t\t 20 \t  | 22.48995120485624 \t| 2.0476470946531524 \t\t |\n",
      "-----------------------------------------------------------------------------------------------------------\n",
      "|\t 18 \t|\t\t 20 \t  | 22.596453448150086 \t| 1.3232338928243776 \t\t |\n",
      "-----------------------------------------------------------------------------------------------------------\n",
      "|\t 19 \t|\t\t 20 \t  | 22.68550982137485 \t| 1.7415227964051487 \t\t |\n",
      "-----------------------------------------------------------------------------------------------------------\n",
      "|\t 20 \t|\t\t 20 \t  | 79.89332127649885 \t| 1.1088616360504804 \t\t |\n",
      "-----------------------------------------------------------------------------------------------------------\n",
      "|\t 21 \t|\t\t 20 \t  | 22.82452038452452 \t| 1.376004153272512 \t\t |\n",
      "-----------------------------------------------------------------------------------------------------------\n",
      "|\t 22 \t|\t\t 20 \t  | 22.8792468223147 \t| 1.0135735685699494 \t\t |\n",
      "-----------------------------------------------------------------------------------------------------------\n",
      "|\t 23 \t|\t\t 20 \t  | 22.926444623134998 \t| 0.9967807043497863 \t\t |\n",
      "-----------------------------------------------------------------------------------------------------------\n",
      "|\t 24 \t|\t\t 20 \t  | 22.967402345704656 \t| 0.8555539852208272 \t\t |\n",
      "-----------------------------------------------------------------------------------------------------------\n",
      "|\t 25 \t|\t\t 20 \t  | 23.0031484313473 \t| 0.814984884671297 \t\t |\n",
      "-----------------------------------------------------------------------------------------------------------\n",
      "|\t 26 \t|\t\t 20 \t  | 23.03451096630924 \t| 0.8915211258446316 \t\t |\n",
      "-----------------------------------------------------------------------------------------------------------\n",
      "|\t 27 \t|\t\t 20 \t  | 23.062162202550027 \t| 0.3406252717603522 \t\t |\n",
      "-----------------------------------------------------------------------------------------------------------\n",
      "|\t 28 \t|\t\t 20 \t  | 23.086652073233196 \t| 0.8385968948515723 \t\t |\n",
      "-----------------------------------------------------------------------------------------------------------\n",
      "|\t 29 \t|\t\t 20 \t  | 23.108433674040143 \t| 0.4087707760844239 \t\t |\n",
      "-----------------------------------------------------------------------------------------------------------\n",
      "|\t 30 \t|\t\t 20 \t  | 23.12788281768603 \t| 0.7280688826472668 \t\t |\n",
      "-----------------------------------------------------------------------------------------------------------\n",
      "|\t 31 \t|\t\t 20 \t  | 23.145313172649693 \t| 0.5535446477708028 \t\t |\n",
      "-----------------------------------------------------------------------------------------------------------\n",
      "|\t 32 \t|\t\t 20 \t  | 23.160988080804472 \t| 0.581827577883455 \t\t |\n",
      "-----------------------------------------------------------------------------------------------------------\n",
      "|\t 33 \t|\t\t 20 \t  | 23.175129854909343 \t| 0.4110883911106944 \t\t |\n",
      "-----------------------------------------------------------------------------------------------------------\n",
      "|\t 34 \t|\t\t 20 \t  | 23.18792714754646 \t| 0.46411613062763024 \t\t |\n",
      "-----------------------------------------------------------------------------------------------------------\n",
      "|\t 35 \t|\t\t 20 \t  | 23.199540832379157 \t| 0.47360810705918777 \t\t |\n",
      "-----------------------------------------------------------------------------------------------------------\n",
      "|\t 36 \t|\t\t 20 \t  | 23.210108729103908 \t| 0.31691177201200116 \t\t |\n",
      "-----------------------------------------------------------------------------------------------------------\n",
      "|\t 37 \t|\t\t 20 \t  | 23.219749423177333 \t| 0.48061657899008026 \t\t |\n",
      "-----------------------------------------------------------------------------------------------------------\n",
      "|\t 38 \t|\t\t 20 \t  | 23.228565372047385 \t| 0.2705870817058349 \t\t |\n",
      "-----------------------------------------------------------------------------------------------------------\n",
      "|\t 39 \t|\t\t 20 \t  | 79.89332127649885 \t| 0.4465885412885635 \t\t |\n",
      "-----------------------------------------------------------------------------------------------------------\n",
      "|\t 40 \t|\t\t 20 \t  | 23.24406701333224 \t| 0.3332338815171987 \t\t |\n",
      "-----------------------------------------------------------------------------------------------------------\n",
      "|\t 41 \t|\t\t 20 \t  | 23.250897672460653 \t| 0.38273495803138413 \t\t |\n",
      "-----------------------------------------------------------------------------------------------------------\n",
      "|\t 42 \t|\t\t 20 \t  | 23.257196678265856 \t| 0.23756393263067377 \t\t |\n",
      "-----------------------------------------------------------------------------------------------------------\n",
      "|\t 43 \t|\t\t 20 \t  | 23.26301614041749 \t| 0.2976445367730993 \t\t |\n",
      "-----------------------------------------------------------------------------------------------------------\n",
      "|\t 44 \t|\t\t 20 \t  | 23.26840202392684 \t| 0.2777904948523773 \t\t |\n",
      "-----------------------------------------------------------------------------------------------------------\n",
      "|\t 45 \t|\t\t 20 \t  | 23.273394991406164 \t| 0.2162940387043868 \t\t |\n",
      "-----------------------------------------------------------------------------------------------------------\n",
      "|\t 46 \t|\t\t 20 \t  | 23.278031114445227 \t| 0.3025470151752643 \t\t |\n",
      "-----------------------------------------------------------------------------------------------------------\n",
      "|\t 47 \t|\t\t 20 \t  | 23.28234247673474 \t| 0.19765134622845704 \t\t |\n",
      "-----------------------------------------------------------------------------------------------------------\n",
      "|\t 48 \t|\t\t 20 \t  | 23.286357687274105 \t| 0.2978528789558519 \t\t |\n",
      "-----------------------------------------------------------------------------------------------------------\n",
      "|\t 49 \t|\t\t 20 \t  | 23.29010231859256 \t| 0.20758799350362978 \t\t |\n",
      "-----------------------------------------------------------------------------------------------------------\n",
      "|\t 50 \t|\t\t 20 \t  | 23.29359928219371 \t| 0.2700774735446414 \t\t |\n",
      "-----------------------------------------------------------------------------------------------------------\n"
     ]
    }
   ],
   "source": [
    "k = int(input('Введите количество k точек разбиения интервала интерполирования, в которых определяются отклонения: '))\n",
    "max_nodes = int(input('Введите максимальное количество max_nodes узлов: '))\n",
    "# mds = maximum_difference_segment\n",
    "a = float(input('Введите a: '))\n",
    "b = float(input('Введите b: '))\n",
    "mds = np.linspace(a, b, k)\n",
    "\n",
    "func_mds = []\n",
    "spline_mds = []\n",
    "optimal_spline_mds = []\n",
    "RSn_mp = []\n",
    "RSn_opt_mp = []\n",
    "\n",
    "# значения точной функции в точках x0, x1, ..., xm; m >> n\n",
    "for i in mds:\n",
    "    func_mds.append(fn(i))\n",
    "    \n",
    "lin_spl_newt_deviations = []\n",
    "\n",
    "print('Таблица 1:')\n",
    "print('-----------------------------------------------------------------------------------------------------------')\n",
    "print('| кол-во узлов, n | кол-во точек разбиения, k   | max RSn_mp \\t\\t | max RSn_opt_mp \\t\\t|' )\n",
    "print('-----------------------------------------------------------------------------------------------------------')\n",
    "\n",
    "for pp in range(3, max_nodes + 1):\n",
    "    \n",
    "    n = pp - 1\n",
    "    xx = np.linspace(a, b, pp)\n",
    "    \n",
    "    # Ищем отклонения     \n",
    "\n",
    "    for p in mds:\n",
    "        # значения линейного сплайна S_{1,0}^n в точках x0, x1, ..., xk; k >> n   \n",
    "        spline_mds.append(lin_spline(arg=p, a=a, b=b, m=pp))\n",
    "        # значения линейного сплайна S_{1,0}^{n_opt} в точках x0, x1, ..., xk; k >> n        \n",
    "        optimal_spline_mds.append(optimal_lin_spline(arg=p, a=a, b=b, m=pp))\n",
    "            \n",
    "    # отклонения\n",
    "    for j in range(1, len(mds)):\n",
    "        RSn_mp.append(np.absolute(func_mds[j] - spline_mds[j]))\n",
    "        RSn_opt_mp.append(np.absolute(func_mds[j] - optimal_spline_mds[j]))\n",
    "    RSn_mp_max = max(RSn_mp)\n",
    "    RSn_opt_mp_max = max(RSn_opt_mp)\n",
    "    \n",
    "    print('|\\t', pp, '\\t|\\t\\t', k, '\\t  |', RSn_mp_max, '\\t|', RSn_opt_mp_max, '\\t\\t |')\n",
    "    print('-----------------------------------------------------------------------------------------------------------')\n",
    "    RSn_mp = []\n",
    "    RSn_opt_mp = []\n",
    "    RSn_mp_max, RSn_opt_mp_max = 0, 0\n",
    "    spline_mds = []\n",
    "    optimal_spline_mds = []\n",
    "    ai_opt, bi_opt, ai, bi = [], [], [], []"
   ]
  }
 ],
 "metadata": {
  "kernelspec": {
   "display_name": "Python 3 (ipykernel)",
   "language": "python",
   "name": "python3"
  },
  "language_info": {
   "codemirror_mode": {
    "name": "ipython",
    "version": 3
   },
   "file_extension": ".py",
   "mimetype": "text/x-python",
   "name": "python",
   "nbconvert_exporter": "python",
   "pygments_lexer": "ipython3",
   "version": "3.9.6"
  }
 },
 "nbformat": 4,
 "nbformat_minor": 5
}
